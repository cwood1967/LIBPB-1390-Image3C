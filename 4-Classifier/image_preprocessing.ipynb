{
 "cells": [
  {
   "cell_type": "markdown",
   "id": "d731de88",
   "metadata": {},
   "source": [
    "## Image Preparation\n",
    "\n",
    "Before training a classifier or predicting images with a trained model, the images will need to be\n",
    "a standard shape and format. We chose to either crop or pad the images from the ImageStream\n",
    "to 64x64x(number of channels) pixels. Rather than having thousands of tiny images to manage and open,\n",
    "all of the images were stored in a large numpy array (.npy). This file can be directed read into python\n",
    "as a numpy array.\n",
    "\n",
    "This notebook goes through the steps to convert tiff files exported from IDEAS into a numpy file.\n",
    "\n",
    "The source code for the Image3C classifier is [here](https://github.com/stowersinstitute/LIBPB-1390-Image3C/tree/master/Code/Classifier)."
   ]
  },
  {
   "cell_type": "markdown",
   "id": "893e427f",
   "metadata": {},
   "source": []
  },
  {
   "cell_type": "code",
   "execution_count": 1,
   "id": "6e35de60",
   "metadata": {},
   "outputs": [],
   "source": [
    "import numpy as np\n",
    "from matplotlib import pyplot as plt\n",
    "import tifffile\n",
    "import pickle\n",
    "\n",
    "from image3c import imageprep, utils as u3c"
   ]
  },
  {
   "cell_type": "markdown",
   "id": "0b155cb5",
   "metadata": {},
   "source": [
    "## Save images in each folder as a numpy array files\n",
    "\n",
    "Use `imageprep.run('tif file location', 'folder to save numpy files')`\n",
    "\n",
    "This will convert tiff files exported from IDEAS and save them in a file\n",
    "that can be directly loaded into python as a numpy array. Each image will be\n",
    "cropped or padded to `64x64x(number of channels).`\n",
    "\n",
    "The `tif file location` can be a folder that contains subfolders with tiff files.\n",
    "An individual numpy file will be created for each subfolder.\n",
    "\n",
    "In the example below, `tif file location` is set to `Data/Male/Tifs/.` This folder\n",
    "contains a folder for each of the 5 replicates. Five numpy files are created, and they\n",
    "are saved in `Data/Male/npfiles`\n",
    "\n",
    "This can take a while if there are many images.\n"
   ]
  },
  {
   "cell_type": "code",
   "execution_count": null,
   "id": "ea8d9636",
   "metadata": {},
   "outputs": [],
   "source": [
    "imageprep.run('Data/Male/Tifs/', 'Data/Male/npfiles/')"
   ]
  },
  {
   "cell_type": "code",
   "execution_count": null,
   "id": "72fde995",
   "metadata": {},
   "outputs": [],
   "source": [
    "!ls -lh Data/Male/npfiles"
   ]
  },
  {
   "cell_type": "markdown",
   "id": "8a57e859",
   "metadata": {},
   "source": [
    "### Extract cluster IDs from csv file to create labels\n",
    "\n",
    "After\n",
    "[Clustering with Vortex](https://github.com/stowersinstitute/LIBPB-1390-Image3C/blob/master/Readme.md#clustering-the-events-in-vortex-clustering-environmentxshift), the events that will be used to train the classifier, the cluster IDs and feature information for each image are stored in a csv file. The cluster IDs for the snail data are in Data/ClusterIDs.csv.\n",
    "\n",
    "This file will be used to create labels for training the classifier. \n",
    "\n",
    "The corresponding numpy image file is Data/snail_images.npy and the label file is Data/snail_labels.npy."
   ]
  },
  {
   "cell_type": "code",
   "execution_count": 7,
   "id": "8f037ec3",
   "metadata": {},
   "outputs": [
    {
     "name": "stdout",
     "output_type": "stream",
     "text": [
      "There are 35469 labels in the file\n",
      "Number in cluster 0:     10930\n",
      "Number in cluster 1:      1729\n",
      "Number in cluster 2:      2015\n",
      "Number in cluster 3:      4899\n",
      "Number in cluster 4:       276\n",
      "Number in cluster 5:      3152\n",
      "Number in cluster 6:      3081\n",
      "Number in cluster 7:       867\n",
      "Number in cluster 8:      8520\n"
     ]
    }
   ],
   "source": [
    "labels = u3c.cluster_to_classes('Data/ClusterIDs.csv')\n",
    "\n",
    "print(f\"There are {len(labels)} labels in the file\")\n",
    "\n",
    "for i, b in enumerate(labels.sum(axis=0)):\n",
    "    print(f\"Number in cluster {i}: {b:9}\")"
   ]
  },
  {
   "cell_type": "code",
   "execution_count": 16,
   "id": "426e4710",
   "metadata": {},
   "outputs": [
    {
     "data": {
      "text/plain": [
       "array([[1, 0, 0, 0, 0, 0, 0, 0, 0],\n",
       "       [0, 0, 0, 0, 0, 0, 0, 0, 1],\n",
       "       [1, 0, 0, 0, 0, 0, 0, 0, 0],\n",
       "       [0, 0, 0, 0, 0, 0, 0, 0, 1],\n",
       "       [0, 0, 0, 0, 0, 0, 1, 0, 0]])"
      ]
     },
     "execution_count": 16,
     "metadata": {},
     "output_type": "execute_result"
    }
   ],
   "source": [
    "'''labels are a one-hot encoded array, where each row is a cell\n",
    "and the previously assigned cluster is the element with value 1\n",
    "\n",
    "here are some examples:\n",
    "'''\n",
    "\n",
    "labels[[18,11200,6789, 12000, 30000]]"
   ]
  },
  {
   "cell_type": "code",
   "execution_count": 25,
   "id": "801f2d90",
   "metadata": {},
   "outputs": [],
   "source": [
    "## save labels as npy file\n",
    "np.save('Data/labels.npy', labels)"
   ]
  },
  {
   "cell_type": "markdown",
   "id": "67113015",
   "metadata": {},
   "source": [
    "## Load a saved npy image file to verify\n",
    "One of the numpy files can be loaded and images can be displayed to verify the process worked."
   ]
  },
  {
   "cell_type": "code",
   "execution_count": 8,
   "id": "2b2f28a3",
   "metadata": {},
   "outputs": [
    {
     "data": {
      "text/plain": [
       "(7225, 64, 64, 3)"
      ]
     },
     "execution_count": 8,
     "metadata": {},
     "output_type": "execute_result"
    }
   ],
   "source": [
    "x = np.load('Data/Male/npfiles/Tifs_Snail_Male_R2.npy')\n",
    "x.shape"
   ]
  },
  {
   "cell_type": "code",
   "execution_count": 11,
   "id": "55e1e56f",
   "metadata": {},
   "outputs": [
    {
     "data": {
      "text/plain": [
       "<matplotlib.image.AxesImage at 0x7fdd905f68d0>"
      ]
     },
     "execution_count": 11,
     "metadata": {},
     "output_type": "execute_result"
    },
    {
     "data": {
      "image/png": "[encoded data removed]",
      "text/plain": [
       "<Figure size 432x144 with 3 Axes>"
      ]
     },
     "metadata": {
      "needs_background": "light"
     },
     "output_type": "display_data"
    }
   ],
   "source": [
    "## change image_num to see a different image\n",
    "image_num = 152\n",
    "fig, ax = plt.subplots(1,3, figsize=(6,2))\n",
    "ax[0].imshow(x[image_num,:,:,0], cmap='gray')\n",
    "ax[1].imshow(x[image_num,:,:,1])\n",
    "ax[2].imshow(x[image_num,:,:,2], cmap='inferno')"
   ]
  },
  {
   "cell_type": "code",
   "execution_count": null,
   "id": "8dc94248",
   "metadata": {},
   "outputs": [],
   "source": []
  }
 ],
 "metadata": {
  "kernelspec": {
   "display_name": "Python 3",
   "language": "python",
   "name": "python3"
  },
  "language_info": {
   "codemirror_mode": {
    "name": "ipython",
    "version": 3
   },
   "file_extension": ".py",
   "mimetype": "text/x-python",
   "name": "python",
   "nbconvert_exporter": "python",
   "pygments_lexer": "ipython3",
   "version": "3.7.10"
  }
 },
 "nbformat": 4,
 "nbformat_minor": 5
}
